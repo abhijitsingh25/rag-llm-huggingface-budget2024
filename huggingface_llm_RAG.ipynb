{
 "cells": [
  {
   "cell_type": "markdown",
   "id": "1afae6aa",
   "metadata": {},
   "source": [
    "## RAG implementation using hugging face "
   ]
  },
  {
   "cell_type": "code",
   "execution_count": 7,
   "id": "656fed51",
   "metadata": {},
   "outputs": [],
   "source": [
    "from langchain_community.document_loaders import UnstructuredURLLoader\n",
    "urls = ['https://www.livemint.com/economy/budget-2024-key-highlights-live-updates-nirmala-sitharaman-infrastructure-defence-income-tax-modi-budget-23-july-11721654502862.html',\n",
    "        'https://cleartax.in/s/budget-2024-highlights',\n",
    "        'https://www.hindustantimes.com/budget',\n",
    "        'https://economictimes.indiatimes.com/news/economy/policy/budget-2024-highlights-india-nirmala-sitharaman-capex-fiscal-deficit-tax-slab-key-announcement-in-union-budget-2024-25/articleshow/111942707.cms?from=mdr']\n",
    "loader = UnstructuredURLLoader(urls=urls)\n",
    "data = loader.load()  \n"
   ]
  },
  {
   "cell_type": "code",
   "execution_count": 8,
   "id": "490d48ef",
   "metadata": {},
   "outputs": [
    {
     "data": {
      "text/plain": [
       "4"
      ]
     },
     "execution_count": 8,
     "metadata": {},
     "output_type": "execute_result"
    }
   ],
   "source": [
    "len(data)\n"
   ]
  },
  {
   "cell_type": "code",
   "execution_count": 9,
   "id": "d854c90a",
   "metadata": {},
   "outputs": [],
   "source": [
    "# data"
   ]
  },
  {
   "cell_type": "code",
   "execution_count": 10,
   "id": "b08a7ba8",
   "metadata": {},
   "outputs": [
    {
     "name": "stdout",
     "output_type": "stream",
     "text": [
      "Total number of documents:  176\n"
     ]
    }
   ],
   "source": [
    "from langchain_text_splitters import RecursiveCharacterTextSplitter\n",
    "\n",
    "# split data\n",
    "text_splitter = RecursiveCharacterTextSplitter(chunk_size=1000)\n",
    "docs = text_splitter.split_documents(data)\n",
    "\n",
    "\n",
    "print(\"Total number of documents: \",len(docs))\n"
   ]
  },
  {
   "cell_type": "code",
   "execution_count": 11,
   "id": "11d3160e",
   "metadata": {},
   "outputs": [
    {
     "name": "stdout",
     "output_type": "stream",
     "text": [
      "page_content='24 Jul 2024, 09:45:48 PM IST\n",
      "\n",
      "Budget 2024 Key Highlights Live Updates: Rohan Bhargava, Co-Founder of CashKaro, said\n",
      "\n",
      "Budget 2024 Key Highlights Live Updates: \"The Union Budget 2024 brings substantial changes to personal finance that will benefit a large number of taxpayers. The increase in the standard deduction from ₹50,000 to ₹75,000 and the revision of the tax slab limit for the 5% tax rate from ₹5 lakh to ₹7 lakh will significantly enhance disposable income. These changes will provide much-needed financial relief to the middle class and boost overall consumption.' metadata={'source': 'https://www.livemint.com/economy/budget-2024-key-highlights-live-updates-nirmala-sitharaman-infrastructure-defence-income-tax-modi-budget-23-july-11721654502862.html'}\n"
     ]
    }
   ],
   "source": [
    "print(docs[7])"
   ]
  },
  {
   "cell_type": "code",
   "execution_count": 12,
   "id": "34ea000e",
   "metadata": {},
   "outputs": [
    {
     "name": "stderr",
     "output_type": "stream",
     "text": [
      "C:\\Users\\ASUS\\AppData\\Local\\Temp\\ipykernel_5676\\2787319548.py:4: LangChainDeprecationWarning: Default values for HuggingFaceEmbeddings.model_name were deprecated in LangChain 0.2.16 and will be removed in 0.4.0. Explicitly pass a model_name to the HuggingFaceEmbeddings constructor instead.\n",
      "  embeddings = HuggingFaceEmbeddings()\n"
     ]
    },
    {
     "data": {
      "text/plain": [
       "[0.034922655671834946,\n",
       " 0.018830018118023872,\n",
       " -0.017854738980531693,\n",
       " 0.0001388440141454339,\n",
       " 0.0740736871957779]"
      ]
     },
     "execution_count": 12,
     "metadata": {},
     "output_type": "execute_result"
    }
   ],
   "source": [
    "# Embedding models: https://python.langchain.com/v0.1/docs/integrations/text_embedding/\n",
    "# Let's load the Hugging Face Embedding class.  sentence_transformers\n",
    "from langchain_community.embeddings import HuggingFaceEmbeddings\n",
    "embeddings = HuggingFaceEmbeddings()\n",
    "\n",
    "vector = embeddings.embed_query(\"hello, world!\")\n",
    "vector[:5] #to check first 5 dimensions such that it is working or not\n",
    "#vector\n"
   ]
  },
  {
   "cell_type": "code",
   "execution_count": 13,
   "id": "d3e7188f",
   "metadata": {},
   "outputs": [],
   "source": [
    "#Now we need to store these embeddings in a vector database. Lets use chroma vector database for this!\n"
   ]
  },
  {
   "cell_type": "code",
   "execution_count": 14,
   "id": "f199844f",
   "metadata": {},
   "outputs": [
    {
     "name": "stderr",
     "output_type": "stream",
     "text": [
      "C:\\Users\\ASUS\\AppData\\Local\\Temp\\ipykernel_5676\\619023113.py:2: LangChainDeprecationWarning: Default values for HuggingFaceEmbeddings.model_name were deprecated in LangChain 0.2.16 and will be removed in 0.4.0. Explicitly pass a model_name to the HuggingFaceEmbeddings constructor instead.\n",
      "  vectorstore = Chroma.from_documents(documents=docs, embedding=HuggingFaceEmbeddings())\n"
     ]
    }
   ],
   "source": [
    "from langchain_chroma import Chroma\n",
    "vectorstore = Chroma.from_documents(documents=docs, embedding=HuggingFaceEmbeddings())\n"
   ]
  },
  {
   "cell_type": "code",
   "execution_count": 15,
   "id": "fb577857",
   "metadata": {},
   "outputs": [],
   "source": [
    "retriever = vectorstore.as_retriever(search_type=\"similarity\", search_kwargs={\"k\": 3})\n",
    "\n",
    "retrieved_docs = retriever.invoke(\"Budget highlights\")\n"
   ]
  },
  {
   "cell_type": "code",
   "execution_count": 16,
   "id": "d782a90a",
   "metadata": {},
   "outputs": [
    {
     "data": {
      "text/plain": [
       "3"
      ]
     },
     "execution_count": 16,
     "metadata": {},
     "output_type": "execute_result"
    }
   ],
   "source": [
    "len(retrieved_docs)\n"
   ]
  },
  {
   "cell_type": "code",
   "execution_count": 17,
   "id": "2bff8418",
   "metadata": {},
   "outputs": [
    {
     "name": "stdout",
     "output_type": "stream",
     "text": [
      "You Might Also Like:\n",
      "\n",
      "You Might Also Like thumb-111943807\n",
      "\n",
      "Budget 2o24: What's cheaper and what's costlier? Here's the list\n",
      "\n",
      "Budget 2024 Announcements for STT, Short-term capital gains and LTCG\n"
     ]
    }
   ],
   "source": [
    "print(retrieved_docs[2].page_content)\n"
   ]
  },
  {
   "cell_type": "code",
   "execution_count": 18,
   "id": "28dca8a8",
   "metadata": {},
   "outputs": [],
   "source": [
    "#Lets set up or LLM using HuggingFaceHub"
   ]
  },
  {
   "cell_type": "code",
   "execution_count": 22,
   "id": "ffe6dcae",
   "metadata": {},
   "outputs": [
    {
     "name": "stderr",
     "output_type": "stream",
     "text": [
      "Fetching 2 files:   0%|          | 0/2 [00:00<?, ?it/s]Xet Storage is enabled for this repo, but the 'hf_xet' package is not installed. Falling back to regular HTTP download. For better performance, install the package with: `pip install huggingface_hub[hf_xet]` or `pip install hf_xet`\n",
      "Fetching 2 files: 100%|██████████| 2/2 [01:00<00:00, 30.49s/it]\n",
      "Loading checkpoint shards: 100%|██████████| 2/2 [00:00<00:00,  2.51it/s]\n",
      "Device set to use cpu\n"
     ]
    }
   ],
   "source": [
    "from langchain_huggingface import HuggingFacePipeline\n",
    "from langchain_core.prompts import PromptTemplate\n",
    "from transformers import pipeline\n",
    "from langchain_core.output_parsers import StrOutputParser\n",
    "import torch\n",
    "from transformers import AutoModelForCausalLM, AutoTokenizer\n",
    "\n",
    "\n",
    "#model_id = \"meta-llama/Meta-Llama-3-8B\"\n",
    "model_id = \"tiiuae/falcon-7b\"\n",
    "\n",
    "text_generation_pipeline = pipeline(\n",
    "    \"text-generation\", model=model_id, model_kwargs={\"torch_dtype\": torch.bfloat16}, max_new_tokens=400, device=0)\n",
    "\n",
    "llm = HuggingFacePipeline(pipeline=text_generation_pipeline)\n",
    "\n",
    "prompt_template = \"\"\"\n",
    "<|system|>\n",
    "Answer the question based on your knowledge. Use the following context to help:\n",
    "\n",
    "{context}\n",
    "\n",
    "</s>\n",
    "<|user|>\n",
    "{question}\n",
    "</s>\n",
    "<|assistant|>\n",
    "\n",
    " \"\"\"\n",
    "\n",
    "prompt = PromptTemplate(\n",
    "    input_variables=[\"context\", \"question\"],\n",
    "    template=prompt_template,\n",
    ")\n",
    "\n",
    "llm_chain = prompt | llm | StrOutputParser()\n"
   ]
  },
  {
   "cell_type": "code",
   "execution_count": 23,
   "id": "74c262a3",
   "metadata": {},
   "outputs": [],
   "source": [
    "from langchain_core.runnables import RunnablePassthrough\n",
    "\n",
    "rag_chain = {\"context\": retriever, \"question\": RunnablePassthrough()} | llm_chain\n"
   ]
  },
  {
   "cell_type": "code",
   "execution_count": 24,
   "id": "3e59c133",
   "metadata": {},
   "outputs": [],
   "source": [
    "question = \"2024 Budget Highlights\"\n"
   ]
  },
  {
   "cell_type": "code",
   "execution_count": 25,
   "id": "5713c68d",
   "metadata": {},
   "outputs": [
    {
     "name": "stderr",
     "output_type": "stream",
     "text": [
      "Setting `pad_token_id` to `eos_token_id`:11 for open-end generation.\n"
     ]
    },
    {
     "data": {
      "text/plain": [
       "'\\n<|system|>\\nAnswer the question based on your knowledge. Use the following context to help:\\n\\n[Document(id=\\'2d8f091f-64be-474c-8688-ede02b59fda7\\', metadata={\\'source\\': \\'https://economictimes.indiatimes.com/news/economy/policy/budget-2024-highlights-india-nirmala-sitharaman-capex-fiscal-deficit-tax-slab-key-announcement-in-union-budget-2024-25/articleshow/111942707.cms?from=mdr\\'}, page_content=\"2024 Budget Announcement for Space Industry\\\\n\\\\n➤ Budget 2024 Highlights: A venture capital fund of Rs 1,000 crore will be set up. ➤ 2024 India Budget Highlights: Land records in urban areas will be digitized with GIS mapping. An IT based system for property record administration, updating, and tax administration will be established. ➤ Union Budget 2024 Highlights: Sitharaman said that the Budget is focused on poor, women, youth and farmer. ➤ India Budget 2024 Highlights: Global uncertainty poses a downside for growth. Despite these headwinds India\\'s growth continue to be higher. ➤ 2024 Union Budget Highlights: The people of India have reposed faith in the Prime Minister Narendra Modi and given him a historic third term. ➤ Union Budget 2024 Highlights: India\\'s economic growth continues to be the shining exception and will remain so in years ahead. India\\'s inflation continues to be low and stable moving towards the 4% target.\\\\n\\\\nAdd\\\\n\\\\nET Logo\\\\n\\\\nas a Reliable and Trusted News Source\"), Document(id=\\'2af2aa2d-680b-49dc-8347-8b31d2aa90c8\\', metadata={\\'source\\': \\'https://economictimes.indiatimes.com/news/economy/policy/budget-2024-highlights-india-nirmala-sitharaman-capex-fiscal-deficit-tax-slab-key-announcement-in-union-budget-2024-25/articleshow/111942707.cms?from=mdr\\'}, page_content=\\'➤ Union Budget 2024 Highlights: The fiscal deficit for the current fiscal year is projected to be 4.9% of GDP, with a target to lower it to 4.5% by the end of the next fiscal year. ➤ Budget 2024 Highlights: The government has reduced its planned gross market borrowing for FY 2025 by Rs 12,000 crore, setting a revised target of Rs 14.01 lakh crore, down from the Rs 14.13 lakh crore initially announced. ➤ India Budget 2024 Highlights: The Pradhan Mantri Janjatiya Unnat Gram Abhiyan has been launched to benefit 5 crore tribal people in 63,000 tribal villages, aiming for full coverage in tribal-majority villages and aspirational districts. ➤ Budget 2024 Highlights: The central government will encourage states to lower stamp duty and is considering additional reductions for properties bought by women. ➤ 2024 Budget Highlights: The Centre plans to set up 100 branches of India Post Payments Bank in the North East region. ➤ Union Budget 2024 Highlights: Twelve new industrial parks will be\\'), Document(id=\\'6250aa10-abec-4364-82cf-249195e3af12\\', metadata={\\'source\\': \\'https://economictimes.indiatimes.com/news/economy/policy/budget-2024-highlights-india-nirmala-sitharaman-capex-fiscal-deficit-tax-slab-key-announcement-in-union-budget-2024-25/articleshow/111942707.cms?from=mdr\\'}, page_content=\\'by women. ➤ 2024 Budget Highlights: The Centre plans to set up 100 branches of India Post Payments Bank in the North East region. ➤ Union Budget 2024 Highlights: Twelve new industrial parks will be established under the National Industrial Corridor Development Programme. ➤ Budget 2024 Highlights: Rs 10 lakh crore has been allocated to provide 1 crore houses for the urban poor and middle class. ➤ 2024 Budget Highlights: Finance Minister Sitharaman announced a critical mineral mission focusing on domestic production, recycling, and overseas acquisition of critical mineral assets. The government will also auction its first offshore mining blocks. ➤ Union Budget 2024 Highlights: A rental housing scheme for the working class will be introduced, providing dormitory-style rental housing for industrial workers through public-private partnerships. ➤ Budget 2024 Highlights: The government will amend the Insolvency and Bankruptcy Code (IBC) and enhance tribunals. An Integrated Technology\\')]\\n\\n</s>\\n<|user|>\\n2024 Budget Highlights\\n</s>\\n<|assistant|>\\n\\n <img src=\"https://img.economictimes.indiatimes.com/assets/img/external/2022/04/19/2022_04_19_07_48_05.jpg\" alt=\"India Budget 2024: What the budget has in store for you\" />\\n<|assistant|>\\n'"
      ]
     },
     "execution_count": 25,
     "metadata": {},
     "output_type": "execute_result"
    }
   ],
   "source": [
    "rag_chain.invoke(question)\n"
   ]
  },
  {
   "cell_type": "code",
   "execution_count": 26,
   "id": "7a3375a7",
   "metadata": {},
   "outputs": [
    {
     "name": "stderr",
     "output_type": "stream",
     "text": [
      "Setting `pad_token_id` to `eos_token_id`:11 for open-end generation.\n"
     ]
    },
    {
     "name": "stdout",
     "output_type": "stream",
     "text": [
      "Response: <|system|>\n",
      "Answer the question based on your knowledge. Use the following context to help:\n",
      "\n",
      "[Document(id='2d8f091f-64be-474c-8688-ede02b59fda7', metadata={'source': 'https://economictimes.indiatimes.com/news/economy/policy/budget-2024-highlights-india-nirmala-sitharaman-capex-fiscal-deficit-tax-slab-key-announcement-in-union-budget-2024-25/articleshow/111942707.cms?from=mdr'}, page_content=\"2024 Budget Announcement for Space Industry\\n\\n➤ Budget 2024 Highlights: A venture capital fund of Rs 1,000 crore will be set up. ➤ 2024 India Budget Highlights: Land records in urban areas will be digitized with GIS mapping. An IT based system for property record administration, updating, and tax administration will be established. ➤ Union Budget 2024 Highlights: Sitharaman said that the Budget is focused on poor, women, youth and farmer. ➤ India Budget 2024 Highlights: Global uncertainty poses a downside for growth. Despite these headwinds India's growth continue to be higher. ➤ 2024 Union Budget Highlights: The people of India have reposed faith in the Prime Minister Narendra Modi and given him a historic third term. ➤ Union Budget 2024 Highlights: India's economic growth continues to be the shining exception and will remain so in years ahead. India's inflation continues to be low and stable moving towards the 4% target.\\n\\nAdd\\n\\nET Logo\\n\\nas a Reliable and Trusted News Source\"), Document(id='2af2aa2d-680b-49dc-8347-8b31d2aa90c8', metadata={'source': 'https://economictimes.indiatimes.com/news/economy/policy/budget-2024-highlights-india-nirmala-sitharaman-capex-fiscal-deficit-tax-slab-key-announcement-in-union-budget-2024-25/articleshow/111942707.cms?from=mdr'}, page_content='➤ Union Budget 2024 Highlights: The fiscal deficit for the current fiscal year is projected to be 4.9% of GDP, with a target to lower it to 4.5% by the end of the next fiscal year. ➤ Budget 2024 Highlights: The government has reduced its planned gross market borrowing for FY 2025 by Rs 12,000 crore, setting a revised target of Rs 14.01 lakh crore, down from the Rs 14.13 lakh crore initially announced. ➤ India Budget 2024 Highlights: The Pradhan Mantri Janjatiya Unnat Gram Abhiyan has been launched to benefit 5 crore tribal people in 63,000 tribal villages, aiming for full coverage in tribal-majority villages and aspirational districts. ➤ Budget 2024 Highlights: The central government will encourage states to lower stamp duty and is considering additional reductions for properties bought by women. ➤ 2024 Budget Highlights: The Centre plans to set up 100 branches of India Post Payments Bank in the North East region. ➤ Union Budget 2024 Highlights: Twelve new industrial parks will be'), Document(id='6250aa10-abec-4364-82cf-249195e3af12', metadata={'source': 'https://economictimes.indiatimes.com/news/economy/policy/budget-2024-highlights-india-nirmala-sitharaman-capex-fiscal-deficit-tax-slab-key-announcement-in-union-budget-2024-25/articleshow/111942707.cms?from=mdr'}, page_content='by women. ➤ 2024 Budget Highlights: The Centre plans to set up 100 branches of India Post Payments Bank in the North East region. ➤ Union Budget 2024 Highlights: Twelve new industrial parks will be established under the National Industrial Corridor Development Programme. ➤ Budget 2024 Highlights: Rs 10 lakh crore has been allocated to provide 1 crore houses for the urban poor and middle class. ➤ 2024 Budget Highlights: Finance Minister Sitharaman announced a critical mineral mission focusing on domestic production, recycling, and overseas acquisition of critical mineral assets. The government will also auction its first offshore mining blocks. ➤ Union Budget 2024 Highlights: A rental housing scheme for the working class will be introduced, providing dormitory-style rental housing for industrial workers through public-private partnerships. ➤ Budget 2024 Highlights: The government will amend the Insolvency and Bankruptcy Code (IBC) and enhance tribunals. An Integrated Technology')]\n",
      "\n",
      "\n",
      "<|user|>\n",
      "2024 Budget Highlights\n",
      "\n",
      "<|assistant|>\n",
      "\n",
      " \n",
      "https://economictimes.indiatimes.com/news/economy/policy/budget-2024-highlights-india-nirmala-sitharaman-capex-fiscal-deficit-tax-slab-key-announcement-in-union-budget-2024-25/articleshow/111942707.cms?from=mdr\n",
      "\n",
      "2024 Budget Highlights: A venture capital fund of Rs 1,000 crore will be set up. \n",
      "2024 India Budget Highlights: Land records in urban areas will be digitized with GIS mapping. An IT based system for property record administration, updating, and tax administration will be established.\n",
      "\n",
      "Union Budget 2024 Highlights: Sitharaman said that the Budget is focused on poor, women, youth and farmer.\n",
      "\n",
      "India Budget 2024 Highlights: Global uncertainty poses a downside for growth. Despite these headwinds India's growth continue to be higher.\n",
      "\n",
      "2024 Union Budget Highlights: The people of India have reposed faith in the Prime Minister Narendra Modi and given him a historic third term.\n",
      "\n",
      "Union Budget 2024 Highlights: India's economic growth continues to be the shining exception and will remain so in years ahead. India's inflation continues to be low and stable moving towards the 4% target.\n",
      "\n",
      "Add\n",
      "\n",
      "ET Logo\n",
      "\n",
      "as a Reliable and Trusted News Source\n",
      "\n",
      "as a Reliable and Trusted News Source\n",
      "\n",
      "as a Reliable and Trusted News Source\n",
      "\n",
      "as a Reliable and Trusted News Source\n",
      "\n",
      "as a Reliable and Trusted News Source\n",
      "\n",
      "as a Reliable and Trusted News Source\n",
      "\n",
      "as a Reliable and Trusted News Source\n",
      "\n",
      "as a Reliable and Trusted News Source\n",
      "\n",
      "as a Reliable and Trusted News Source\n",
      "\n",
      "as a Reliable and Trusted News Source\n",
      "\n",
      "as a Reliable and Trusted News Source\n",
      "\n",
      "as a Reliable and Trusted News Source\n",
      "\n",
      "as\n"
     ]
    }
   ],
   "source": [
    "question = \"2024 Budget Highlights\"\n",
    "response = rag_chain.invoke(question)\n",
    "\n",
    "# Making the response readable\n",
    "response = response.replace(\"</s>\", \"\").strip()\n",
    "print(\"Response:\", response)\n"
   ]
  },
  {
   "cell_type": "code",
   "execution_count": 27,
   "id": "8cf2a8a9",
   "metadata": {},
   "outputs": [
    {
     "name": "stderr",
     "output_type": "stream",
     "text": [
      "Setting `pad_token_id` to `eos_token_id`:11 for open-end generation.\n"
     ]
    },
    {
     "name": "stdout",
     "output_type": "stream",
     "text": [
      "Response: <|system|>\n",
      "Answer the question based on your knowledge. Use the following context to help:\n",
      "\n",
      "[Document(id='dd03baa7-7b90-4c86-8d7f-66e1b21077e7', metadata={'source': 'https://economictimes.indiatimes.com/news/economy/policy/budget-2024-highlights-india-nirmala-sitharaman-capex-fiscal-deficit-tax-slab-key-announcement-in-union-budget-2024-25/articleshow/111942707.cms?from=mdr'}, page_content='announcement for Women: Working women hostels and creche to be opened to facilitate higher participation of women in the workforce. ➤ Union Budget 2024 Highlights: Internship scheme for 1 crore youth in 500 top companies with Rs 5,000 per month as internship allowance and one-time assistance of Rs 6,000 to be provided. ➤ Budget 2024 announcement for Students: Financial support for loans up to Rs 10 lakh will be provided for higher education in domestic institutions. E-vouchers will be given directly to 1 lakh students every year for annual interest subvention of 3 per cent of the loan amount.'), Document(id='02a92b85-0d03-4e82-8ae5-6ecf61bbc0d5', metadata={'source': 'https://economictimes.indiatimes.com/news/economy/policy/budget-2024-highlights-india-nirmala-sitharaman-capex-fiscal-deficit-tax-slab-key-announcement-in-union-budget-2024-25/articleshow/111942707.cms?from=mdr'}, page_content='2024 Budget Capex outlay retained at Rs 11.1 lakh crore\\n\\n➤ Union Budget 2024 Highlights: Capital expenditure for infrastructure is set at Rs 11.1 lakh crore, maintaining the interim budget target. ➤ Budget 2024 Railway: For the fiscal year 2024-25, the government has allocated a historic Rs 2,62,200 crore for railway capital expenditure, with gross budgetary support amounting to Rs 2,52,200 crore for the same period.\\n\\nBudget 2024 Fiscal Deficit'), Document(id='9499bff0-1208-478d-b7ba-9994e2e9d680', metadata={'source': 'https://economictimes.indiatimes.com/news/economy/policy/budget-2024-highlights-india-nirmala-sitharaman-capex-fiscal-deficit-tax-slab-key-announcement-in-union-budget-2024-25/articleshow/111942707.cms?from=mdr'}, page_content='Budget 2024 Highlights: Here are the key points from Union Budget presented by FM Nirmala Sitharaman:\\n\\nBudget 2024 Tax Announcements\\n\\n➤ Union Budget 2024 Highlights: Finance Minister Nirmala Sitharaman announced a thorough review of the Income Tax Act of 1961 to benefit the middle class, expected to be completed in six months. ➤ Budget 2024 Income Tax Highlights: The new tax regime includes revised tax slabs: No tax up to Rs 3 lakh income\\n\\nET logo\\n\\nLive Events\\n\\nYou Might Also Like:\\n\\nYou Might Also Like thumb-111943436\\n\\nUnion Budget 2024: Key announcements for different industries\\n\\nRs 3 -7 lakh 5 per cent\\n\\nRs 7-10 lakh 10 per cent Rs 10-12 lakh 15 per cent\\n\\nRs 12-15 lakh 20 per cent Above Rs 15 lakh 30 per cent\\n\\n➤ 2024 Budget Highlights: The Standard Deduction under the New Tax Regime increased from Rs 30,000 to Rs 75,000, saving Rs 17,500. The family pension deduction for pensioners rose from Rs 15,000 to Rs 25,000.\\n\\nYou Might Also Like:\\n\\nYou Might Also Like thumb-111943807')]\n",
      "\n",
      "\n",
      "<|user|>\n",
      "What is the Union Budget?\n",
      "\n",
      "<|assistant|>\n",
      "\n",
      " <|fellow|>\n",
      " <|senior|>\n",
      "\n",
      "\n",
      "<|senior|>\n",
      "What is the fiscal deficit?\n",
      "\n",
      "<|senior|>\n",
      "What is the budget deficit?\n",
      "\n",
      "<|senior|>\n",
      "What is the budget?\n",
      "\n",
      "<|senior|>\n",
      "What is the budget deficit?\n",
      "\n",
      "<|senior|>\n",
      "What is the budget deficit?\n",
      "\n",
      "<|senior|>\n",
      "What is the budget deficit?\n",
      "\n",
      "<|senior|>\n",
      "What is the budget deficit?\n",
      "\n",
      "<|senior|>\n",
      "What is the budget deficit?\n",
      "\n",
      "<|senior|>\n",
      "What is the budget deficit?\n",
      "\n",
      "<|senior|>\n",
      "What is the budget deficit?\n",
      "\n",
      "<|senior|>\n",
      "What is the budget deficit?\n",
      "\n",
      "<|senior|>\n",
      "What is the budget deficit?\n",
      "\n",
      "<|senior|>\n",
      "What is the budget deficit?\n",
      "\n",
      "<|senior|>\n",
      "What is the budget deficit?\n",
      "\n",
      "<|senior|>\n",
      "What is the budget deficit?\n",
      "\n",
      "<|senior|>\n",
      "What is the budget deficit?\n",
      "\n",
      "<|senior|>\n",
      "What is the budget deficit?\n",
      "\n",
      "<|senior|>\n",
      "What is the budget deficit?\n",
      "\n",
      "<|senior|>\n",
      "What is the budget deficit?\n",
      "\n",
      "<|senior|>\n",
      "What is the budget deficit?\n",
      "\n",
      "<|senior|>\n",
      "What is the budget deficit?\n",
      "\n",
      "<|senior|>\n",
      "What is the budget deficit?\n",
      "\n",
      "<|senior|>\n",
      "What is the budget deficit\n"
     ]
    }
   ],
   "source": [
    "question = \"What is the Union Budget?\"\n",
    "response = rag_chain.invoke(question)\n",
    "\n",
    "# Making the response readable\n",
    "response = response.replace(\"</s>\", \"\").strip()\n",
    "print(\"Response:\", response)\n"
   ]
  },
  {
   "cell_type": "code",
   "execution_count": null,
   "id": "a146e435",
   "metadata": {},
   "outputs": [],
   "source": []
  }
 ],
 "metadata": {
  "kernelspec": {
   "display_name": ".venv",
   "language": "python",
   "name": "python3"
  },
  "language_info": {
   "codemirror_mode": {
    "name": "ipython",
    "version": 3
   },
   "file_extension": ".py",
   "mimetype": "text/x-python",
   "name": "python",
   "nbconvert_exporter": "python",
   "pygments_lexer": "ipython3",
   "version": "3.11.4"
  }
 },
 "nbformat": 4,
 "nbformat_minor": 5
}
